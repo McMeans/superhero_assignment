{
  "cells": [
    {
      "cell_type": "markdown",
      "id": "5fa8dcf6",
      "metadata": {
        "id": "5fa8dcf6"
      },
      "source": [
        "# Superhero Database Assignment (SQLite & Google Colab)\n",
        "\n",
        "## Objective\n",
        "In this assignment, you will design and implement a **Superhero Database** using SQLite in Google Colab. This database will store superheroes, villains, and their battles. You will write SQL queries to analyze battle outcomes and relationships between heroes and villains.\n",
        "\n",
        "### Group Size:\n",
        "- 2 to 3 students per group.\n",
        "\n",
        "### Tools Required:\n",
        "- **Google Colab**\n",
        "- **SQLite (built into Python)**\n",
        "- **CSV files (provided for import)**"
      ]
    },
    {
      "cell_type": "markdown",
      "id": "5535e625",
      "metadata": {
        "id": "5535e625"
      },
      "source": [
        "## Step 1: Setting Up Your SQLite Database\n",
        "\n",
        "### Tasks:\n",
        "1. Initialize SQLite in Google Colab.\n",
        "2. Create a database named `superhero_db.sqlite`.\n",
        "3. Define the database schema, ensuring it includes the following tables:\n",
        "   - `heroes`: Stores superhero names, powers, and teams.\n",
        "   - `villains`: Stores villains and their evil plans.\n",
        "   - `battles`: Tracks battles between heroes and villains, including the outcome.\n",
        "4. Implement primary keys and foreign keys where appropriate.\n",
        "\n",
        "✅ **Checkpoint:** Ensure that the database and tables have been successfully created."
      ]
    },
    {
      "cell_type": "code",
      "source": [
        "import sqlite3\n",
        "\n",
        "# Connect to the database\n",
        "connection = sqlite3.connect('superhero_db.sqlite')\n",
        "\n",
        "# Create a cursor object to execute SQL commands\n",
        "cursor = connection.cursor()\n",
        "\n",
        "# Delete tables that already exist\n",
        "cursor.executescript('''\n",
        "DROP TABLE IF EXISTS heroes;\n",
        "DROP TABLE IF EXISTS villains;\n",
        "DROP TABLE IF EXISTS battles;\n",
        "''')\n",
        "\n",
        "# Create heroes table\n",
        "cursor.execute('''\n",
        "CREATE TABLE IF NOT EXISTS heroes (\n",
        "    id INTEGER PRIMARY KEY AUTOINCREMENT,\n",
        "    name TEXT NOT NULL,\n",
        "    power TEXT,\n",
        "    team TEXT\n",
        ");\n",
        "''')\n",
        "\n",
        "# Create villains table\n",
        "cursor.execute('''\n",
        "CREATE TABLE IF NOT EXISTS villains (\n",
        "    id INTEGER PRIMARY KEY AUTOINCREMENT,\n",
        "    name TEXT NOT NULL,\n",
        "    evil_plan TEXT\n",
        ")\n",
        "''')\n",
        "\n",
        "# Create battles table\n",
        "cursor.execute('''\n",
        "CREATE TABLE IF NOT EXISTS battles (\n",
        "    id INTEGER PRIMARY KEY AUTOINCREMENT,\n",
        "    hero_id INTEGER,\n",
        "    villain_id INTEGER NOT NULL,\n",
        "    outcome TEXT NOT NULL,\n",
        "    FOREIGN KEY (hero_id) REFERENCES heroes (id),\n",
        "    FOREIGN KEY (villain_id) REFERENCES villains (id)\n",
        ")\n",
        "''')\n",
        "\n",
        "connection.commit()"
      ],
      "metadata": {
        "id": "qQQDjDCdz6Y2"
      },
      "id": "qQQDjDCdz6Y2",
      "execution_count": 49,
      "outputs": []
    },
    {
      "cell_type": "markdown",
      "id": "154b3c3a",
      "metadata": {
        "id": "154b3c3a"
      },
      "source": [
        "## Step 2: Import Data from CSV Files\n",
        "\n",
        "### Tasks:\n",
        "1. Download the provided CSV files.\n",
        "2. Upload them to Google Colab.\n",
        "3. Write a script to import data from these files into the appropriate tables.\n",
        "4. Verify that the data has been successfully inserted.\n",
        "\n",
        "✅ **Checkpoint:** Ensure that each table contains the expected data from the CSV files."
      ]
    },
    {
      "cell_type": "code",
      "source": [
        "import pandas as pd\n",
        "\n",
        "# Read CSV files into DataFrames\n",
        "heroes_df = pd.read_csv('csv_files/heroes.csv')\n",
        "villains_df = pd.read_csv('csv_files/villains.csv')\n",
        "battles_df = pd.read_csv('csv_files/battles.csv')\n",
        "\n",
        "# Insert data into SQLite\n",
        "heroes_df.to_sql('heroes', connection, if_exists='append', index=False)\n",
        "villains_df.to_sql('villains', connection, if_exists='append', index=False)\n",
        "battles_df.to_sql('battles', connection, if_exists='append', index=False)\n",
        "\n",
        "# Print heroes table\n",
        "print(\"Heroes:\")\n",
        "cursor.execute('''\n",
        "  SELECT * FROM heroes\n",
        "''')\n",
        "for hero in cursor.fetchall():\n",
        "    print(hero)\n",
        "\n",
        "# Print villains table\n",
        "print(\"\\nVillains:\")\n",
        "cursor.execute('''\n",
        "  SELECT * FROM villains\n",
        "''')\n",
        "for villain in cursor.fetchall():\n",
        "    print(villain)\n",
        "\n",
        "# Print battles table\n",
        "print(\"\\nBattles:\")\n",
        "cursor.execute('''\n",
        "  SELECT * FROM battles\n",
        "''')\n",
        "for battle in cursor.fetchall():\n",
        "    print(battle)\n",
        "\n",
        "connection.commit()"
      ],
      "metadata": {
        "id": "_HqIS7ji2Q-e",
        "colab": {
          "base_uri": "https://localhost:8080/"
        },
        "outputId": "417dacd9-61bb-4292-e7f1-8a527f050c98"
      },
      "id": "_HqIS7ji2Q-e",
      "execution_count": 50,
      "outputs": [
        {
          "output_type": "stream",
          "name": "stdout",
          "text": [
            "Heroes:\n",
            "(1, 'Spider-Man', 'Web-slinging', 'Avengers')\n",
            "(2, 'Iron Man', 'Powered Armor', 'Avengers')\n",
            "(3, 'Batman', 'Genius Detective', 'Justice League')\n",
            "(4, 'Superman', 'Super Strength', 'Justice League')\n",
            "(5, 'Thor', 'God of Thunder', 'Avengers')\n",
            "(6, 'Wonder Woman', 'Amazonian Strength', 'Justice League')\n",
            "(7, 'Black Panther', 'Enhanced Agility', 'Avengers')\n",
            "(8, 'The Flash', 'Super Speed', 'Justice League')\n",
            "(9, 'Hulk', 'Super Strength', 'Avengers')\n",
            "(10, 'Doctor Strange', 'Mystic Arts', 'Avengers')\n",
            "\n",
            "Villains:\n",
            "(1, 'Green Goblin', 'Terrorize New York')\n",
            "(2, 'Thanos', 'Collect all Infinity Stones')\n",
            "(3, 'Joker', 'Spread chaos in Gotham')\n",
            "(4, 'Lex Luthor', 'Defeat Superman')\n",
            "(5, 'Loki', 'Trick humanity into worshiping him')\n",
            "(6, 'Ultron', 'AI world domination')\n",
            "(7, 'Darkseid', 'Control the universe')\n",
            "(8, 'Venom', 'Consume Spider-Man')\n",
            "(9, 'Magneto', 'Mutant supremacy')\n",
            "(10, 'Red Skull', 'Revive Hydra')\n",
            "\n",
            "Battles:\n",
            "(1, 1, 10, 'Villain Wins')\n",
            "(2, 9, 3, 'Hero Wins')\n",
            "(3, 8, 1, 'Draw')\n",
            "(4, 5, 4, 'Villain Wins')\n",
            "(5, 1, 7, 'Hero Wins')\n",
            "(6, 2, 8, 'Villain Wins')\n",
            "(7, 9, 8, 'Hero Wins')\n",
            "(8, 3, 2, 'Hero Wins')\n",
            "(9, 7, 5, 'Hero Wins')\n",
            "(10, 3, 1, 'Draw')\n",
            "(11, 1, 8, 'Villain Wins')\n",
            "(12, 2, 1, 'Draw')\n",
            "(13, 8, 9, 'Hero Wins')\n",
            "(14, 8, 1, 'Draw')\n",
            "(15, 6, 10, 'Draw')\n",
            "(16, 1, 1, 'Villain Wins')\n",
            "(17, 8, 3, 'Draw')\n",
            "(18, 6, 3, 'Villain Wins')\n",
            "(19, 4, 8, 'Villain Wins')\n",
            "(20, 3, 4, 'Hero Wins')\n",
            "(21, 8, 1, 'Draw')\n",
            "(22, 4, 9, 'Draw')\n",
            "(23, 3, 9, 'Draw')\n",
            "(24, 8, 9, 'Villain Wins')\n",
            "(25, 2, 5, 'Draw')\n",
            "(26, 3, 7, 'Draw')\n",
            "(27, 10, 3, 'Draw')\n",
            "(28, 3, 8, 'Draw')\n",
            "(29, 3, 5, 'Hero Wins')\n",
            "(30, 5, 5, 'Hero Wins')\n"
          ]
        }
      ]
    },
    {
      "cell_type": "markdown",
      "id": "33548d9f",
      "metadata": {
        "id": "33548d9f"
      },
      "source": [
        "## Step 3: Querying the Database\n",
        "\n",
        "### Tasks:\n",
        "Write SQL queries to answer the following:\n",
        "1. Retrieve all superheroes and their powers.\n",
        "2. Find all battles where the hero won.\n",
        "3. List all villains and their evil plans.\n",
        "4. Determine which superhero has fought the most battles.\n",
        "\n",
        "✅ **Checkpoint:** Ensure that all queries return meaningful results from the database."
      ]
    },
    {
      "cell_type": "code",
      "source": [
        "# 1. Retrieve all superheros and their powers\n",
        "print(\"All superheros:\")\n",
        "cursor.execute('''\n",
        "  SELECT name, power FROM heroes\n",
        "''')\n",
        "for hero in cursor.fetchall():\n",
        "    print(hero)\n",
        "\n",
        "# 2. Find all battles where the hero won\n",
        "print(\"\\nBattles where hero won:\")\n",
        "cursor.execute('''\n",
        "  SELECT heroes.name, villains.name, battles.outcome\n",
        "  FROM battles\n",
        "  INNER JOIN heroes ON battles.hero_id = heroes.id\n",
        "  INNER JOIN villains ON battles.villain_id = villains.id\n",
        "  WHERE outcome Like 'Hero%'\n",
        "''')\n",
        "for battle in cursor.fetchall():\n",
        "    print(battle)\n",
        "\n",
        "# 3. List all villains and their evil plans\n",
        "print(\"\\nVillains and their evil plans:\")\n",
        "cursor.execute('''\n",
        "  SELECT name, evil_plan FROM villains\n",
        "''')\n",
        "for villain in cursor.fetchall():\n",
        "    print(villain)\n",
        "\n",
        "\n",
        "# 4. Determine which superhero has fought the most battles\n",
        "print(\"\\nSuperhero with most battles:\")\n",
        "cursor.execute('''\n",
        "  SELECT h.name, COUNT(b.id) AS battle_count\n",
        "  FROM heroes h\n",
        "  LEFT JOIN battles b ON h.id = b.hero_id\n",
        "  GROUP BY h.id\n",
        "  ORDER BY battle_count DESC\n",
        "''')\n",
        "print(cursor.fetchone())"
      ],
      "metadata": {
        "colab": {
          "base_uri": "https://localhost:8080/"
        },
        "id": "GlaczMJg3Pg4",
        "outputId": "210464a1-22c5-4284-d748-283db6061ac7"
      },
      "id": "GlaczMJg3Pg4",
      "execution_count": 51,
      "outputs": [
        {
          "output_type": "stream",
          "name": "stdout",
          "text": [
            "All superheros:\n",
            "('Spider-Man', 'Web-slinging')\n",
            "('Iron Man', 'Powered Armor')\n",
            "('Batman', 'Genius Detective')\n",
            "('Superman', 'Super Strength')\n",
            "('Thor', 'God of Thunder')\n",
            "('Wonder Woman', 'Amazonian Strength')\n",
            "('Black Panther', 'Enhanced Agility')\n",
            "('The Flash', 'Super Speed')\n",
            "('Hulk', 'Super Strength')\n",
            "('Doctor Strange', 'Mystic Arts')\n",
            "\n",
            "Battles where hero won:\n",
            "('Hulk', 'Joker', 'Hero Wins')\n",
            "('Spider-Man', 'Darkseid', 'Hero Wins')\n",
            "('Hulk', 'Venom', 'Hero Wins')\n",
            "('Batman', 'Thanos', 'Hero Wins')\n",
            "('Black Panther', 'Loki', 'Hero Wins')\n",
            "('The Flash', 'Magneto', 'Hero Wins')\n",
            "('Batman', 'Lex Luthor', 'Hero Wins')\n",
            "('Batman', 'Loki', 'Hero Wins')\n",
            "('Thor', 'Loki', 'Hero Wins')\n",
            "\n",
            "Villains and their evil plans:\n",
            "('Green Goblin', 'Terrorize New York')\n",
            "('Thanos', 'Collect all Infinity Stones')\n",
            "('Joker', 'Spread chaos in Gotham')\n",
            "('Lex Luthor', 'Defeat Superman')\n",
            "('Loki', 'Trick humanity into worshiping him')\n",
            "('Ultron', 'AI world domination')\n",
            "('Darkseid', 'Control the universe')\n",
            "('Venom', 'Consume Spider-Man')\n",
            "('Magneto', 'Mutant supremacy')\n",
            "('Red Skull', 'Revive Hydra')\n",
            "\n",
            "Superhero with most battles:\n",
            "('Batman', 7)\n"
          ]
        }
      ]
    },
    {
      "cell_type": "markdown",
      "id": "de8bda94",
      "metadata": {
        "id": "de8bda94"
      },
      "source": [
        "## Step 4: Add a Custom Feature\n",
        "\n",
        "### Tasks:\n",
        "1. Design and implement an additional table related to superheroes or villains.\n",
        "2. Populate it with data.\n",
        "3. Write at least one query to retrieve meaningful insights from the new table.\n",
        "\n",
        "**Examples of Custom Features:**\n",
        "- Sidekicks for superheroes\n",
        "- Villain hideouts\n",
        "- Battle locations\n",
        "- Superhero equipment\n",
        "\n",
        "✅ **Checkpoint:** Ensure that the new table and queries function correctly."
      ]
    },
    {
      "cell_type": "code",
      "source": [
        "# Create villain deaths table\n",
        "cursor.executescript('''\n",
        "DROP TABLE IF EXISTS deaths;\n",
        "CREATE TABLE IF NOT EXISTS deaths (\n",
        "    id INTEGER PRIMARY KEY AUTOINCREMENT,\n",
        "    villain_id INTEGER,\n",
        "    dies TEXT NOT NULL,\n",
        "    revived TEXT NOT NULL,\n",
        "    FOREIGN KEY (villain_id) REFERENCES villains (id)\n",
        ");\n",
        "''')\n",
        "\n",
        "# Populate with data (most recent cinematic adaptation)\n",
        "cursor.execute('''\n",
        "INSERT INTO deaths (villain_id, dies, revived) VALUES\n",
        "  (1, 'Yes', 'Yes'),\n",
        "  (2, 'Yes', 'Yes'),\n",
        "  (3, 'No', 'No'),\n",
        "  (4, 'No', 'No'),\n",
        "  (5, 'Yes', 'Yes'),\n",
        "  (6, 'Yes', 'No'),\n",
        "  (7, 'Yes', 'No'),\n",
        "  (8, 'Yes', 'No'),\n",
        "  (9, 'No', 'No'),\n",
        "  (10, 'No', 'No')\n",
        "''')\n",
        "\n",
        "\n",
        "# Retrieved all villains that have been revived in their cinematic universe\n",
        "print(\"\\nVillains that have been revived:\")\n",
        "cursor.execute('''\n",
        "  SELECT v.name\n",
        "  FROM deaths d\n",
        "  INNER JOIN villains v ON d.villain_id = v.id\n",
        "  WHERE d.revived = 'Yes'\n",
        "''')\n",
        "for revived in cursor.fetchall():\n",
        "    print(revived)\n",
        "\n",
        "\n",
        "# Retrieved all villains who have yet to die in their cinematic universe\n",
        "print(\"\\nVillains who have not died yet:\")\n",
        "cursor.execute('''\n",
        "  SELECT v.name\n",
        "  FROM deaths d\n",
        "  INNER JOIN villains v ON d.villain_id = v.id\n",
        "  WHERE d.dies = 'No'\n",
        "''')\n",
        "for alive in cursor.fetchall():\n",
        "    print(alive)\n",
        "\n",
        "connection.commit()"
      ],
      "metadata": {
        "colab": {
          "base_uri": "https://localhost:8080/"
        },
        "id": "REoO1xl-6a27",
        "outputId": "c88a2023-5cce-4f12-8c48-b0567ca4ff19"
      },
      "id": "REoO1xl-6a27",
      "execution_count": 52,
      "outputs": [
        {
          "output_type": "stream",
          "name": "stdout",
          "text": [
            "\n",
            "Villains that have been revived:\n",
            "('Green Goblin',)\n",
            "('Thanos',)\n",
            "('Loki',)\n",
            "\n",
            "Villains who have not died yet:\n",
            "('Joker',)\n",
            "('Lex Luthor',)\n",
            "('Magneto',)\n",
            "('Red Skull',)\n"
          ]
        }
      ]
    },
    {
      "cell_type": "markdown",
      "id": "9bf43fe6",
      "metadata": {
        "id": "9bf43fe6"
      },
      "source": [
        "## Bonus Challenge (+5 Points)\n",
        "\n",
        "### Tasks:\n",
        "1. Enhance your project by adding a visual or interactive component.\n",
        "\n",
        "**Options:**\n",
        "- Visualize battles using Matplotlib (e.g., a bar chart showing how many battles each superhero has fought).\n",
        "- Make it interactive (e.g., allow users to input a superhero name and display their battles).\n",
        "\n",
        "✅ **Checkpoint:** If attempting the bonus, ensure that your visualization or interactive component works correctly."
      ]
    },
    {
      "cell_type": "code",
      "source": [
        "import matplotlib.pyplot as plt\n",
        "\n",
        "# Plot winning percentages\n",
        "\n",
        "# Pull battle data to a dataframe\n",
        "battles = pd.read_sql_query(\"\"\"\n",
        "  SELECT heroes.name, villains.name, battles.outcome\n",
        "  FROM battles\n",
        "  INNER JOIN heroes ON battles.hero_id = heroes.id\n",
        "  INNER JOIN villains ON battles.villain_id = villains.id\n",
        "\"\"\", connection)\n",
        "\n",
        "# Close and commit connection\n",
        "connection.commit()\n",
        "connection.close()\n",
        "\n",
        "# Renaming columns\n",
        "battles.columns.values[0] = 'hero'\n",
        "battles.columns.values[1] = 'villain'\n",
        "\n",
        "# Get all characters who have battled, and create iterables to track their wins\n",
        "all_people = pd.concat([battles['hero'], battles['villain']]).unique()\n",
        "num_battles = {x: 0 for x in all_people}\n",
        "num_wins = {x: 0 for x in all_people}\n",
        "\n",
        "# Iterate through each battle\n",
        "for _, row in battles.iterrows():\n",
        "  hero = row['hero']\n",
        "  villain = row['villain']\n",
        "  outcome = row['outcome']\n",
        "\n",
        "  # Adding to number of battles\n",
        "  num_battles[hero] += 1\n",
        "  num_battles[villain] += 1\n",
        "\n",
        "  # Adding to number of wins\n",
        "  if outcome.startswith('Hero'):\n",
        "    num_wins[hero] += 1\n",
        "  elif outcome.startswith('Villain'):\n",
        "    num_wins[villain] += 1\n",
        "  else:\n",
        "    num_wins[hero] += 0.5\n",
        "    num_wins[villain] += 0.5\n",
        "\n",
        "# Create dataframe to show percentages\n",
        "wins = pd.DataFrame({\n",
        "    \"name\": list(num_battles.keys()),\n",
        "    \"percent\": [round((num_wins[name] / num_battles[name]), 2) for name in num_battles.keys()],\n",
        "})\n",
        "\n",
        "plt.barh(wins['name'], wins['percent'])\n",
        "plt.xlabel('Win Percentage')\n",
        "plt.ylabel('Name')\n",
        "plt.title('Win Percentage by Character')\n",
        "plt.grid(True, axis='x', linestyle='--', color='gray', alpha=0.7)\n",
        "plt.show()"
      ],
      "metadata": {
        "colab": {
          "base_uri": "https://localhost:8080/",
          "height": 453
        },
        "id": "Ed0a4ZPF6SBh",
        "outputId": "9ef0af30-1e3f-4d96-ccba-55947768b601"
      },
      "id": "Ed0a4ZPF6SBh",
      "execution_count": 53,
      "outputs": [
        {
          "output_type": "display_data",
          "data": {
            "text/plain": [
              "<Figure size 640x480 with 1 Axes>"
            ],
            "image/png": "[encoded data removed]"
          },
          "metadata": {}
        }
      ]
    },
    {
      "cell_type": "markdown",
      "id": "89f56c05",
      "metadata": {
        "id": "89f56c05"
      },
      "source": [
        "## Submission Guidelines\n",
        "\n",
        "Each group must submit a **Google Colab Notebook (.ipynb)** containing:\n",
        "- ✅ **Database schema (DDL)**\n",
        "- ✅ **CSV imports & data insertion (DML)**\n",
        "- ✅ **SQL queries & results**\n",
        "- ✅ **Custom feature (bonus if applicable)**"
      ]
    },
    {
      "cell_type": "markdown",
      "id": "61477c9b",
      "metadata": {
        "id": "61477c9b"
      },
      "source": [
        "## Grading Criteria (Total: 25 Points)\n",
        "\n",
        "| Section                 | Points |\n",
        "|-------------------------|--------|\n",
        "| Database Setup          | 5      |\n",
        "| Data Importing         | 10     |\n",
        "| Querying the Data      | 10     |\n",
        "| Extra Feature          | 5      |\n",
        "| Bonus Challenge (Optional) | +5  |"
      ]
    },
    {
      "cell_type": "markdown",
      "id": "92bf6839",
      "metadata": {
        "id": "92bf6839"
      },
      "source": [
        "### Final Notes:\n",
        "- Be **creative** when designing superheroes and villains.\n",
        "- **Comment your code** to explain its functionality.\n",
        "- **Have fun** building your superhero universe!"
      ]
    }
  ],
  "metadata": {
    "colab": {
      "provenance": []
    },
    "language_info": {
      "name": "python"
    },
    "kernelspec": {
      "name": "python3",
      "display_name": "Python 3"
    }
  },
  "nbformat": 4,
  "nbformat_minor": 5
}
